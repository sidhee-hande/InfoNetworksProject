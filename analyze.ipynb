{
 "cells": [
  {
   "cell_type": "code",
   "execution_count": 16,
   "metadata": {},
   "outputs": [],
   "source": [
    "import pandas as pd"
   ]
  },
  {
   "cell_type": "code",
   "execution_count": 17,
   "metadata": {},
   "outputs": [],
   "source": [
    "import spacy\n",
    "import en_core_web_sm"
   ]
  },
  {
   "cell_type": "code",
   "execution_count": 18,
   "metadata": {},
   "outputs": [],
   "source": [
    "df = pd.read_csv('india-news-headlines.csv')\n"
   ]
  },
  {
   "cell_type": "code",
   "execution_count": 19,
   "metadata": {},
   "outputs": [
    {
     "data": {
      "text/html": [
       "<div>\n",
       "<style scoped>\n",
       "    .dataframe tbody tr th:only-of-type {\n",
       "        vertical-align: middle;\n",
       "    }\n",
       "\n",
       "    .dataframe tbody tr th {\n",
       "        vertical-align: top;\n",
       "    }\n",
       "\n",
       "    .dataframe thead th {\n",
       "        text-align: right;\n",
       "    }\n",
       "</style>\n",
       "<table border=\"1\" class=\"dataframe\">\n",
       "  <thead>\n",
       "    <tr style=\"text-align: right;\">\n",
       "      <th></th>\n",
       "      <th>publish_date</th>\n",
       "      <th>headline_category</th>\n",
       "      <th>headline_text</th>\n",
       "    </tr>\n",
       "  </thead>\n",
       "  <tbody>\n",
       "    <tr>\n",
       "      <th>0</th>\n",
       "      <td>20010102</td>\n",
       "      <td>unknown</td>\n",
       "      <td>Status quo will not be disturbed at Ayodhya; s...</td>\n",
       "    </tr>\n",
       "    <tr>\n",
       "      <th>1</th>\n",
       "      <td>20010102</td>\n",
       "      <td>unknown</td>\n",
       "      <td>Fissures in Hurriyat over Pak visit</td>\n",
       "    </tr>\n",
       "    <tr>\n",
       "      <th>2</th>\n",
       "      <td>20010102</td>\n",
       "      <td>unknown</td>\n",
       "      <td>America's unwanted heading for India?</td>\n",
       "    </tr>\n",
       "    <tr>\n",
       "      <th>3</th>\n",
       "      <td>20010102</td>\n",
       "      <td>unknown</td>\n",
       "      <td>For bigwigs; it is destination Goa</td>\n",
       "    </tr>\n",
       "    <tr>\n",
       "      <th>4</th>\n",
       "      <td>20010102</td>\n",
       "      <td>unknown</td>\n",
       "      <td>Extra buses to clear tourist traffic</td>\n",
       "    </tr>\n",
       "    <tr>\n",
       "      <th>...</th>\n",
       "      <td>...</td>\n",
       "      <td>...</td>\n",
       "      <td>...</td>\n",
       "    </tr>\n",
       "    <tr>\n",
       "      <th>3650965</th>\n",
       "      <td>20220331</td>\n",
       "      <td>city.srinagar</td>\n",
       "      <td>J&amp;K sacks 2 cops; 3 other employees over terro...</td>\n",
       "    </tr>\n",
       "    <tr>\n",
       "      <th>3650966</th>\n",
       "      <td>20220331</td>\n",
       "      <td>entertainment.hindi.bollywood</td>\n",
       "      <td>Ranbir Kapoor says 'Rishi Kapoor enjoyed his a...</td>\n",
       "    </tr>\n",
       "    <tr>\n",
       "      <th>3650967</th>\n",
       "      <td>20220331</td>\n",
       "      <td>city.trichy</td>\n",
       "      <td>As Covid-19 cases drop to nil in southern dist...</td>\n",
       "    </tr>\n",
       "    <tr>\n",
       "      <th>3650968</th>\n",
       "      <td>20220331</td>\n",
       "      <td>city.erode</td>\n",
       "      <td>Tamil Nadu sees marginal rise of Covid cases w...</td>\n",
       "    </tr>\n",
       "    <tr>\n",
       "      <th>3650969</th>\n",
       "      <td>20220331</td>\n",
       "      <td>city.salem</td>\n",
       "      <td>Tamil Nadu sees marginal rise of Covid cases w...</td>\n",
       "    </tr>\n",
       "  </tbody>\n",
       "</table>\n",
       "<p>3650970 rows × 3 columns</p>\n",
       "</div>"
      ],
      "text/plain": [
       "         publish_date              headline_category   \n",
       "0            20010102                        unknown  \\\n",
       "1            20010102                        unknown   \n",
       "2            20010102                        unknown   \n",
       "3            20010102                        unknown   \n",
       "4            20010102                        unknown   \n",
       "...               ...                            ...   \n",
       "3650965      20220331                  city.srinagar   \n",
       "3650966      20220331  entertainment.hindi.bollywood   \n",
       "3650967      20220331                    city.trichy   \n",
       "3650968      20220331                     city.erode   \n",
       "3650969      20220331                     city.salem   \n",
       "\n",
       "                                             headline_text  \n",
       "0        Status quo will not be disturbed at Ayodhya; s...  \n",
       "1                      Fissures in Hurriyat over Pak visit  \n",
       "2                    America's unwanted heading for India?  \n",
       "3                       For bigwigs; it is destination Goa  \n",
       "4                     Extra buses to clear tourist traffic  \n",
       "...                                                    ...  \n",
       "3650965  J&K sacks 2 cops; 3 other employees over terro...  \n",
       "3650966  Ranbir Kapoor says 'Rishi Kapoor enjoyed his a...  \n",
       "3650967  As Covid-19 cases drop to nil in southern dist...  \n",
       "3650968  Tamil Nadu sees marginal rise of Covid cases w...  \n",
       "3650969  Tamil Nadu sees marginal rise of Covid cases w...  \n",
       "\n",
       "[3650970 rows x 3 columns]"
      ]
     },
     "execution_count": 19,
     "metadata": {},
     "output_type": "execute_result"
    }
   ],
   "source": [
    "df"
   ]
  },
  {
   "cell_type": "code",
   "execution_count": 20,
   "metadata": {},
   "outputs": [
    {
     "data": {
      "text/html": [
       "<div>\n",
       "<style scoped>\n",
       "    .dataframe tbody tr th:only-of-type {\n",
       "        vertical-align: middle;\n",
       "    }\n",
       "\n",
       "    .dataframe tbody tr th {\n",
       "        vertical-align: top;\n",
       "    }\n",
       "\n",
       "    .dataframe thead th {\n",
       "        text-align: right;\n",
       "    }\n",
       "</style>\n",
       "<table border=\"1\" class=\"dataframe\">\n",
       "  <thead>\n",
       "    <tr style=\"text-align: right;\">\n",
       "      <th></th>\n",
       "      <th>publish_date</th>\n",
       "      <th>headline_category</th>\n",
       "      <th>headline_text</th>\n",
       "    </tr>\n",
       "  </thead>\n",
       "  <tbody>\n",
       "    <tr>\n",
       "      <th>1531086</th>\n",
       "      <td>20130101</td>\n",
       "      <td>life-style.food.recipes</td>\n",
       "      <td>Appetizer recipe: Corn &amp; Basil Fingers</td>\n",
       "    </tr>\n",
       "    <tr>\n",
       "      <th>1531087</th>\n",
       "      <td>20130101</td>\n",
       "      <td>life-style.relationships.man-woman</td>\n",
       "      <td>Men taking to cooking like never before</td>\n",
       "    </tr>\n",
       "    <tr>\n",
       "      <th>1531088</th>\n",
       "      <td>20130101</td>\n",
       "      <td>life-style.health-fitness.health-news</td>\n",
       "      <td>Theatre can be therapeutic</td>\n",
       "    </tr>\n",
       "    <tr>\n",
       "      <th>1531089</th>\n",
       "      <td>20130101</td>\n",
       "      <td>unknown</td>\n",
       "      <td>Should you buy a resale flat?</td>\n",
       "    </tr>\n",
       "    <tr>\n",
       "      <th>1531090</th>\n",
       "      <td>20130101</td>\n",
       "      <td>life-style.relationships.man-woman</td>\n",
       "      <td>How to not get raped</td>\n",
       "    </tr>\n",
       "    <tr>\n",
       "      <th>...</th>\n",
       "      <td>...</td>\n",
       "      <td>...</td>\n",
       "      <td>...</td>\n",
       "    </tr>\n",
       "    <tr>\n",
       "      <th>1879111</th>\n",
       "      <td>20140515</td>\n",
       "      <td>city.bhopal</td>\n",
       "      <td>Inaugural of event to mark birth anniversary o...</td>\n",
       "    </tr>\n",
       "    <tr>\n",
       "      <th>1879112</th>\n",
       "      <td>20140515</td>\n",
       "      <td>entertainment.events.bhopal</td>\n",
       "      <td>Play Drishtidaan staged at the third day of Ra...</td>\n",
       "    </tr>\n",
       "    <tr>\n",
       "      <th>1879113</th>\n",
       "      <td>20140515</td>\n",
       "      <td>city.bhopal</td>\n",
       "      <td>Play Drishtidaan staged at the third day of Ra...</td>\n",
       "    </tr>\n",
       "    <tr>\n",
       "      <th>1879114</th>\n",
       "      <td>20140515</td>\n",
       "      <td>entertainment.events.bhopal</td>\n",
       "      <td>A city-based band; Bandishein performs at Rabi...</td>\n",
       "    </tr>\n",
       "    <tr>\n",
       "      <th>1879115</th>\n",
       "      <td>20140515</td>\n",
       "      <td>city.bhopal</td>\n",
       "      <td>A city-based band; Bandishein performs at Rabi...</td>\n",
       "    </tr>\n",
       "  </tbody>\n",
       "</table>\n",
       "<p>348030 rows × 3 columns</p>\n",
       "</div>"
      ],
      "text/plain": [
       "         publish_date                      headline_category   \n",
       "1531086      20130101                life-style.food.recipes  \\\n",
       "1531087      20130101     life-style.relationships.man-woman   \n",
       "1531088      20130101  life-style.health-fitness.health-news   \n",
       "1531089      20130101                                unknown   \n",
       "1531090      20130101     life-style.relationships.man-woman   \n",
       "...               ...                                    ...   \n",
       "1879111      20140515                            city.bhopal   \n",
       "1879112      20140515            entertainment.events.bhopal   \n",
       "1879113      20140515                            city.bhopal   \n",
       "1879114      20140515            entertainment.events.bhopal   \n",
       "1879115      20140515                            city.bhopal   \n",
       "\n",
       "                                             headline_text  \n",
       "1531086             Appetizer recipe: Corn & Basil Fingers  \n",
       "1531087            Men taking to cooking like never before  \n",
       "1531088                         Theatre can be therapeutic  \n",
       "1531089                      Should you buy a resale flat?  \n",
       "1531090                               How to not get raped  \n",
       "...                                                    ...  \n",
       "1879111  Inaugural of event to mark birth anniversary o...  \n",
       "1879112  Play Drishtidaan staged at the third day of Ra...  \n",
       "1879113  Play Drishtidaan staged at the third day of Ra...  \n",
       "1879114  A city-based band; Bandishein performs at Rabi...  \n",
       "1879115  A city-based band; Bandishein performs at Rabi...  \n",
       "\n",
       "[348030 rows x 3 columns]"
      ]
     },
     "execution_count": 20,
     "metadata": {},
     "output_type": "execute_result"
    }
   ],
   "source": [
    "df_time_period = df[(df[\"publish_date\"]>20130000) & (df[\"publish_date\"]<20140516)]\n",
    "df_time_period"
   ]
  },
  {
   "cell_type": "code",
   "execution_count": 24,
   "metadata": {},
   "outputs": [],
   "source": [
    "f = open('political_cats.txt', 'r')\n",
    "\n",
    "textblob = f.read()\n",
    "cats = textblob.split(\"\\n\")"
   ]
  },
  {
   "cell_type": "code",
   "execution_count": 25,
   "metadata": {},
   "outputs": [],
   "source": [
    "relevant_df = df_time_period[ df_time_period['headline_category'].isin(cats)]"
   ]
  },
  {
   "cell_type": "code",
   "execution_count": 26,
   "metadata": {},
   "outputs": [
    {
     "data": {
      "text/html": [
       "<div>\n",
       "<style scoped>\n",
       "    .dataframe tbody tr th:only-of-type {\n",
       "        vertical-align: middle;\n",
       "    }\n",
       "\n",
       "    .dataframe tbody tr th {\n",
       "        vertical-align: top;\n",
       "    }\n",
       "\n",
       "    .dataframe thead th {\n",
       "        text-align: right;\n",
       "    }\n",
       "</style>\n",
       "<table border=\"1\" class=\"dataframe\">\n",
       "  <thead>\n",
       "    <tr style=\"text-align: right;\">\n",
       "      <th></th>\n",
       "      <th>publish_date</th>\n",
       "      <th>headline_category</th>\n",
       "      <th>headline_text</th>\n",
       "    </tr>\n",
       "  </thead>\n",
       "  <tbody>\n",
       "    <tr>\n",
       "      <th>1531135</th>\n",
       "      <td>20130101</td>\n",
       "      <td>india</td>\n",
       "      <td>How can we trust this government; questions Ni...</td>\n",
       "    </tr>\n",
       "    <tr>\n",
       "      <th>1531146</th>\n",
       "      <td>20130101</td>\n",
       "      <td>india</td>\n",
       "      <td>Rapper's concert scrapped after online protest...</td>\n",
       "    </tr>\n",
       "    <tr>\n",
       "      <th>1531162</th>\n",
       "      <td>20130101</td>\n",
       "      <td>india</td>\n",
       "      <td>Govt prunes cash transfers to 20 districts fro...</td>\n",
       "    </tr>\n",
       "    <tr>\n",
       "      <th>1531173</th>\n",
       "      <td>20130101</td>\n",
       "      <td>india</td>\n",
       "      <td>Delhi gang-rape case: Grieving family says mar...</td>\n",
       "    </tr>\n",
       "    <tr>\n",
       "      <th>1531174</th>\n",
       "      <td>20130101</td>\n",
       "      <td>india</td>\n",
       "      <td>Delhi gang-rape case: 80 witnesses in chargesheet</td>\n",
       "    </tr>\n",
       "    <tr>\n",
       "      <th>...</th>\n",
       "      <td>...</td>\n",
       "      <td>...</td>\n",
       "      <td>...</td>\n",
       "    </tr>\n",
       "    <tr>\n",
       "      <th>1879009</th>\n",
       "      <td>20140515</td>\n",
       "      <td>india</td>\n",
       "      <td>Gadkari was never focus of our probe; I-T depa...</td>\n",
       "    </tr>\n",
       "    <tr>\n",
       "      <th>1879013</th>\n",
       "      <td>20140515</td>\n",
       "      <td>india</td>\n",
       "      <td>Narendra Modi chairs Gujarat cabinet meeting; ...</td>\n",
       "    </tr>\n",
       "    <tr>\n",
       "      <th>1879018</th>\n",
       "      <td>20140515</td>\n",
       "      <td>india</td>\n",
       "      <td>Average Indian male consumes 33 litres of alco...</td>\n",
       "    </tr>\n",
       "    <tr>\n",
       "      <th>1879024</th>\n",
       "      <td>20140515</td>\n",
       "      <td>india</td>\n",
       "      <td>Sulking Sushma flies to Bhopal says not angry</td>\n",
       "    </tr>\n",
       "    <tr>\n",
       "      <th>1879030</th>\n",
       "      <td>20140515</td>\n",
       "      <td>india</td>\n",
       "      <td>Vote's up? Commission's errors of omission wer...</td>\n",
       "    </tr>\n",
       "  </tbody>\n",
       "</table>\n",
       "<p>49392 rows × 3 columns</p>\n",
       "</div>"
      ],
      "text/plain": [
       "         publish_date headline_category   \n",
       "1531135      20130101             india  \\\n",
       "1531146      20130101             india   \n",
       "1531162      20130101             india   \n",
       "1531173      20130101             india   \n",
       "1531174      20130101             india   \n",
       "...               ...               ...   \n",
       "1879009      20140515             india   \n",
       "1879013      20140515             india   \n",
       "1879018      20140515             india   \n",
       "1879024      20140515             india   \n",
       "1879030      20140515             india   \n",
       "\n",
       "                                             headline_text  \n",
       "1531135  How can we trust this government; questions Ni...  \n",
       "1531146  Rapper's concert scrapped after online protest...  \n",
       "1531162  Govt prunes cash transfers to 20 districts fro...  \n",
       "1531173  Delhi gang-rape case: Grieving family says mar...  \n",
       "1531174  Delhi gang-rape case: 80 witnesses in chargesheet  \n",
       "...                                                    ...  \n",
       "1879009  Gadkari was never focus of our probe; I-T depa...  \n",
       "1879013  Narendra Modi chairs Gujarat cabinet meeting; ...  \n",
       "1879018  Average Indian male consumes 33 litres of alco...  \n",
       "1879024      Sulking Sushma flies to Bhopal says not angry  \n",
       "1879030  Vote's up? Commission's errors of omission wer...  \n",
       "\n",
       "[49392 rows x 3 columns]"
      ]
     },
     "execution_count": 26,
     "metadata": {},
     "output_type": "execute_result"
    }
   ],
   "source": [
    "relevant_df"
   ]
  },
  {
   "cell_type": "code",
   "execution_count": 27,
   "metadata": {},
   "outputs": [
    {
     "name": "stdout",
     "output_type": "stream",
     "text": [
      "headline_category\n",
      "young-turks                                   8\n",
      "nepal-india-earthquake.opinion                8\n",
      "sports.rio-2016-olympics.news.sailing         8\n",
      "himachal-pradesh                              8\n",
      "best-products.beauty.grooming                 8\n",
      "                                          ...  \n",
      "business.india-business                  121195\n",
      "city.delhi                               137648\n",
      "city.mumbai                              150451\n",
      "unknown                                  209583\n",
      "india                                    297491\n",
      "Name: headline_category, Length: 1041, dtype: int64\n"
     ]
    }
   ],
   "source": [
    "series = df.groupby(\"headline_category\")[\"headline_category\"].count()\n",
    "# df.groupby('News Portal')['Positive Sentiment Score'].median()\n",
    "\n",
    "series = series.sort_values()\n",
    "\n",
    "print(series)\n",
    "series.to_csv(\"Cat Counts.csv\")"
   ]
  },
  {
   "cell_type": "code",
   "execution_count": 28,
   "metadata": {},
   "outputs": [
    {
     "data": {
      "text/html": [
       "<div>\n",
       "<style scoped>\n",
       "    .dataframe tbody tr th:only-of-type {\n",
       "        vertical-align: middle;\n",
       "    }\n",
       "\n",
       "    .dataframe tbody tr th {\n",
       "        vertical-align: top;\n",
       "    }\n",
       "\n",
       "    .dataframe thead th {\n",
       "        text-align: right;\n",
       "    }\n",
       "</style>\n",
       "<table border=\"1\" class=\"dataframe\">\n",
       "  <thead>\n",
       "    <tr style=\"text-align: right;\">\n",
       "      <th></th>\n",
       "      <th>headline_category</th>\n",
       "      <th>headline_category.1</th>\n",
       "    </tr>\n",
       "  </thead>\n",
       "  <tbody>\n",
       "    <tr>\n",
       "      <th>1040</th>\n",
       "      <td>india</td>\n",
       "      <td>297491</td>\n",
       "    </tr>\n",
       "  </tbody>\n",
       "</table>\n",
       "</div>"
      ],
      "text/plain": [
       "     headline_category  headline_category.1\n",
       "1040             india               297491"
      ]
     },
     "execution_count": 28,
     "metadata": {},
     "output_type": "execute_result"
    }
   ],
   "source": [
    "cate = pd.read_csv(\"Cat Counts.csv\")\n",
    "\n",
    "cate[cate[\"headline_category.1\"] == cate[\"headline_category.1\"].max()]"
   ]
  },
  {
   "cell_type": "code",
   "execution_count": 29,
   "metadata": {},
   "outputs": [
    {
     "data": {
      "text/html": [
       "<div>\n",
       "<style scoped>\n",
       "    .dataframe tbody tr th:only-of-type {\n",
       "        vertical-align: middle;\n",
       "    }\n",
       "\n",
       "    .dataframe tbody tr th {\n",
       "        vertical-align: top;\n",
       "    }\n",
       "\n",
       "    .dataframe thead th {\n",
       "        text-align: right;\n",
       "    }\n",
       "</style>\n",
       "<table border=\"1\" class=\"dataframe\">\n",
       "  <thead>\n",
       "    <tr style=\"text-align: right;\">\n",
       "      <th></th>\n",
       "      <th>publish_date</th>\n",
       "      <th>headline_category</th>\n",
       "      <th>headline_text</th>\n",
       "    </tr>\n",
       "  </thead>\n",
       "  <tbody>\n",
       "    <tr>\n",
       "      <th>1531135</th>\n",
       "      <td>20130101</td>\n",
       "      <td>india</td>\n",
       "      <td>How can we trust this government; questions Ni...</td>\n",
       "    </tr>\n",
       "    <tr>\n",
       "      <th>1531146</th>\n",
       "      <td>20130101</td>\n",
       "      <td>india</td>\n",
       "      <td>Rapper's concert scrapped after online protest...</td>\n",
       "    </tr>\n",
       "    <tr>\n",
       "      <th>1531162</th>\n",
       "      <td>20130101</td>\n",
       "      <td>india</td>\n",
       "      <td>Govt prunes cash transfers to 20 districts fro...</td>\n",
       "    </tr>\n",
       "    <tr>\n",
       "      <th>1531173</th>\n",
       "      <td>20130101</td>\n",
       "      <td>india</td>\n",
       "      <td>Delhi gang-rape case: Grieving family says mar...</td>\n",
       "    </tr>\n",
       "    <tr>\n",
       "      <th>1531174</th>\n",
       "      <td>20130101</td>\n",
       "      <td>india</td>\n",
       "      <td>Delhi gang-rape case: 80 witnesses in chargesheet</td>\n",
       "    </tr>\n",
       "    <tr>\n",
       "      <th>...</th>\n",
       "      <td>...</td>\n",
       "      <td>...</td>\n",
       "      <td>...</td>\n",
       "    </tr>\n",
       "    <tr>\n",
       "      <th>1879009</th>\n",
       "      <td>20140515</td>\n",
       "      <td>india</td>\n",
       "      <td>Gadkari was never focus of our probe; I-T depa...</td>\n",
       "    </tr>\n",
       "    <tr>\n",
       "      <th>1879013</th>\n",
       "      <td>20140515</td>\n",
       "      <td>india</td>\n",
       "      <td>Narendra Modi chairs Gujarat cabinet meeting; ...</td>\n",
       "    </tr>\n",
       "    <tr>\n",
       "      <th>1879018</th>\n",
       "      <td>20140515</td>\n",
       "      <td>india</td>\n",
       "      <td>Average Indian male consumes 33 litres of alco...</td>\n",
       "    </tr>\n",
       "    <tr>\n",
       "      <th>1879024</th>\n",
       "      <td>20140515</td>\n",
       "      <td>india</td>\n",
       "      <td>Sulking Sushma flies to Bhopal says not angry</td>\n",
       "    </tr>\n",
       "    <tr>\n",
       "      <th>1879030</th>\n",
       "      <td>20140515</td>\n",
       "      <td>india</td>\n",
       "      <td>Vote's up? Commission's errors of omission wer...</td>\n",
       "    </tr>\n",
       "  </tbody>\n",
       "</table>\n",
       "<p>49392 rows × 3 columns</p>\n",
       "</div>"
      ],
      "text/plain": [
       "         publish_date headline_category   \n",
       "1531135      20130101             india  \\\n",
       "1531146      20130101             india   \n",
       "1531162      20130101             india   \n",
       "1531173      20130101             india   \n",
       "1531174      20130101             india   \n",
       "...               ...               ...   \n",
       "1879009      20140515             india   \n",
       "1879013      20140515             india   \n",
       "1879018      20140515             india   \n",
       "1879024      20140515             india   \n",
       "1879030      20140515             india   \n",
       "\n",
       "                                             headline_text  \n",
       "1531135  How can we trust this government; questions Ni...  \n",
       "1531146  Rapper's concert scrapped after online protest...  \n",
       "1531162  Govt prunes cash transfers to 20 districts fro...  \n",
       "1531173  Delhi gang-rape case: Grieving family says mar...  \n",
       "1531174  Delhi gang-rape case: 80 witnesses in chargesheet  \n",
       "...                                                    ...  \n",
       "1879009  Gadkari was never focus of our probe; I-T depa...  \n",
       "1879013  Narendra Modi chairs Gujarat cabinet meeting; ...  \n",
       "1879018  Average Indian male consumes 33 litres of alco...  \n",
       "1879024      Sulking Sushma flies to Bhopal says not angry  \n",
       "1879030  Vote's up? Commission's errors of omission wer...  \n",
       "\n",
       "[49392 rows x 3 columns]"
      ]
     },
     "execution_count": 29,
     "metadata": {},
     "output_type": "execute_result"
    }
   ],
   "source": [
    "relevant_df"
   ]
  },
  {
   "cell_type": "code",
   "execution_count": 30,
   "metadata": {},
   "outputs": [],
   "source": [
    "\n",
    "nlp = en_core_web_sm.load()\n",
    "\n",
    "texts = ''.join(str(relevant_df.headline_text.tolist()))\n",
    "\n",
    "nodes = []\n",
    "entities = [\"ORG\", \"PERSON\", \"NORP\", \"EVENT\", \"LAW\"]\n",
    "\n"
   ]
  },
  {
   "cell_type": "code",
   "execution_count": 31,
   "metadata": {},
   "outputs": [
    {
     "name": "stdout",
     "output_type": "stream",
     "text": [
      "0\n"
     ]
    }
   ],
   "source": [
    "print(len(nodes))"
   ]
  },
  {
   "cell_type": "code",
   "execution_count": 13,
   "metadata": {},
   "outputs": [
    {
     "data": {
      "application/vnd.jupyter.widget-view+json": {
       "model_id": "ea90011b78df42278ab5b7fccbd7923b",
       "version_major": 2,
       "version_minor": 0
      },
      "text/plain": [
       "Downloading (…)lve/main/config.json:   0%|          | 0.00/975 [00:00<?, ?B/s]"
      ]
     },
     "metadata": {},
     "output_type": "display_data"
    },
    {
     "data": {
      "application/vnd.jupyter.widget-view+json": {
       "model_id": "124d1fcf402c4542b12d715294b560f6",
       "version_major": 2,
       "version_minor": 0
      },
      "text/plain": [
       "Downloading pytorch_model.bin:   0%|          | 0.00/1.11G [00:00<?, ?B/s]"
      ]
     },
     "metadata": {},
     "output_type": "display_data"
    }
   ],
   "source": [
    "from transformers import AutoModelForSequenceClassification\n",
    "from transformers import TFAutoModelForSequenceClassification\n",
    "from transformers import AutoTokenizer\n",
    "import numpy as np\n",
    "from scipy.special import softmax\n",
    "\n",
    "MODEL = f\"cardiffnlp/xlm-twitter-politics-sentiment\"\n",
    "\n",
    "tokenizer = AutoTokenizer.from_pretrained(MODEL)\n",
    "\n",
    "# PT\n",
    "model = AutoModelForSequenceClassification.from_pretrained(MODEL)\n",
    "\n"
   ]
  },
  {
   "cell_type": "code",
   "execution_count": 32,
   "metadata": {},
   "outputs": [
    {
     "name": "stderr",
     "output_type": "stream",
     "text": [
      "/var/folders/4p/rylg4l1j585g32zrfkvlzbgh0000gn/T/ipykernel_12510/3015169735.py:1: SettingWithCopyWarning: \n",
      "A value is trying to be set on a copy of a slice from a DataFrame.\n",
      "Try using .loc[row_indexer,col_indexer] = value instead\n",
      "\n",
      "See the caveats in the documentation: https://pandas.pydata.org/pandas-docs/stable/user_guide/indexing.html#returning-a-view-versus-a-copy\n",
      "  relevant_df[\"Positive Sentiment Score\"] = 0\n",
      "/var/folders/4p/rylg4l1j585g32zrfkvlzbgh0000gn/T/ipykernel_12510/3015169735.py:2: SettingWithCopyWarning: \n",
      "A value is trying to be set on a copy of a slice from a DataFrame.\n",
      "Try using .loc[row_indexer,col_indexer] = value instead\n",
      "\n",
      "See the caveats in the documentation: https://pandas.pydata.org/pandas-docs/stable/user_guide/indexing.html#returning-a-view-versus-a-copy\n",
      "  relevant_df[\"Neutral Sentiment Score\"] = 0\n",
      "/var/folders/4p/rylg4l1j585g32zrfkvlzbgh0000gn/T/ipykernel_12510/3015169735.py:3: SettingWithCopyWarning: \n",
      "A value is trying to be set on a copy of a slice from a DataFrame.\n",
      "Try using .loc[row_indexer,col_indexer] = value instead\n",
      "\n",
      "See the caveats in the documentation: https://pandas.pydata.org/pandas-docs/stable/user_guide/indexing.html#returning-a-view-versus-a-copy\n",
      "  relevant_df[\"Negative Sentiment Score\"] = 0\n"
     ]
    }
   ],
   "source": [
    "relevant_df[\"Positive Sentiment Score\"] = 0\n",
    "relevant_df[\"Neutral Sentiment Score\"] = 0\n",
    "relevant_df[\"Negative Sentiment Score\"] = 0"
   ]
  },
  {
   "cell_type": "code",
   "execution_count": 33,
   "metadata": {},
   "outputs": [],
   "source": [
    "for index, row in relevant_df.iterrows():\n",
    "  text = row[\"headline_text\"]\n",
    "  encoded_input = tokenizer.encode(text, padding=True, truncation=True,max_length=50, add_special_tokens = True, return_tensors='pt')\n",
    "\n",
    "  output = model(encoded_input)\n",
    "  scores = output[0][0].detach().numpy()\n",
    "  scores = softmax(scores)\n",
    "  \n",
    "  ranking = np.argsort(scores)\n",
    "  for i in range(scores.shape[0]):\n",
    "    s = scores[ranking[i]]\n",
    "    if i==0:\n",
    "      relevant_df.at[index,\"Positive Sentiment Score\"] = s\n",
    "    if i==1:\n",
    "      relevant_df.at[index,\"Neutral Sentiment Score\"] = s\n",
    "    if i==2:\n",
    "      relevant_df.at[index,\"Negative Sentiment Score\"] = s"
   ]
  },
  {
   "cell_type": "code",
   "execution_count": 35,
   "metadata": {},
   "outputs": [
    {
     "name": "stdout",
     "output_type": "stream",
     "text": [
      "publish_date\n",
      "20130101    0.070089\n",
      "20130102    0.075063\n",
      "20130103    0.069949\n",
      "20130104    0.079223\n",
      "20130105    0.077179\n",
      "              ...   \n",
      "20140511    0.079671\n",
      "20140512    0.081984\n",
      "20140513    0.077228\n",
      "20140514    0.080468\n",
      "20140515    0.072687\n",
      "Name: Positive Sentiment Score, Length: 500, dtype: float64\n",
      "publish_date\n",
      "20130101    0.707103\n",
      "20130102    0.708685\n",
      "20130103    0.700789\n",
      "20130104    0.706772\n",
      "20130105    0.708572\n",
      "              ...   \n",
      "20140511    0.706995\n",
      "20140512    0.698620\n",
      "20140513    0.721527\n",
      "20140514    0.709497\n",
      "20140515    0.717883\n",
      "Name: Negative Sentiment Score, Length: 500, dtype: float64\n",
      "publish_date\n",
      "20130101    0.222808\n",
      "20130102    0.216252\n",
      "20130103    0.229261\n",
      "20130104    0.214005\n",
      "20130105    0.214249\n",
      "              ...   \n",
      "20140511    0.213334\n",
      "20140512    0.219396\n",
      "20140513    0.201245\n",
      "20140514    0.210035\n",
      "20140515    0.209431\n",
      "Name: Neutral Sentiment Score, Length: 500, dtype: float64\n"
     ]
    }
   ],
   "source": [
    "print(relevant_df.groupby('publish_date')['Positive Sentiment Score'].mean())\n",
    "print(relevant_df.groupby('publish_date')['Negative Sentiment Score'].mean())\n",
    "print(relevant_df.groupby('publish_date')['Neutral Sentiment Score'].mean())"
   ]
  },
  {
   "cell_type": "code",
   "execution_count": 36,
   "metadata": {},
   "outputs": [
    {
     "name": "stderr",
     "output_type": "stream",
     "text": [
      "/var/folders/4p/rylg4l1j585g32zrfkvlzbgh0000gn/T/ipykernel_12510/934228981.py:1: SettingWithCopyWarning: \n",
      "A value is trying to be set on a copy of a slice from a DataFrame.\n",
      "Try using .loc[row_indexer,col_indexer] = value instead\n",
      "\n",
      "See the caveats in the documentation: https://pandas.pydata.org/pandas-docs/stable/user_guide/indexing.html#returning-a-view-versus-a-copy\n",
      "  relevant_df[\"Entities\"] = \"\"\n",
      "/var/folders/4p/rylg4l1j585g32zrfkvlzbgh0000gn/T/ipykernel_12510/934228981.py:2: SettingWithCopyWarning: \n",
      "A value is trying to be set on a copy of a slice from a DataFrame.\n",
      "Try using .loc[row_indexer,col_indexer] = value instead\n",
      "\n",
      "See the caveats in the documentation: https://pandas.pydata.org/pandas-docs/stable/user_guide/indexing.html#returning-a-view-versus-a-copy\n",
      "  relevant_df[\"Relations\"] = \"\"\n"
     ]
    }
   ],
   "source": [
    "relevant_df[\"Entities\"] = \"\"\n",
    "relevant_df[\"Relations\"] = \"\"\n",
    "from spacy.matcher import Matcher \n",
    "from spacy.tokens import Span \n",
    "\n",
    "def get_relation(sent):\n",
    "\n",
    "  doc = nlp(sent)\n",
    "\n",
    "  # Matcher class object \n",
    "  matcher = Matcher(nlp.vocab)\n",
    "\n",
    "  #define the pattern \n",
    "  pattern = [{'DEP':'ROOT'}, \n",
    "            {'DEP':'prep','OP':\"?\"},\n",
    "            {'DEP':'agent','OP':\"?\"},  \n",
    "            {'POS':'ADJ','OP':\"?\"}] \n",
    "\n",
    "  matcher.add(\"matching_1\",[pattern]) \n",
    "\n",
    "  matches = matcher(doc)\n",
    "  k = len(matches) - 1\n",
    "\n",
    "  span = doc[matches[k][1]:matches[k][2]] \n",
    "\n",
    "  return(span.text)"
   ]
  },
  {
   "cell_type": "code",
   "execution_count": null,
   "metadata": {},
   "outputs": [],
   "source": [
    "nlp = en_core_web_sm.load()\n",
    "total_nodes = []\n",
    "entities = [\"ORG\", \"PERSON\", \"NORP\", \"EVENT\", \"LAW\", \"MONEY\"]\n",
    "edge_info = []\n",
    "node_dict = dict()\n",
    "\n",
    "\n",
    "for index, row in relevant_df.iterrows():\n",
    "    print(index)\n",
    "    nodes = []\n",
    "\n",
    "    article = nlp(row[\"headline_text\"])\n",
    "\n",
    "    for x in article.ents:\n",
    "        if x.label_ in entities:\n",
    "            nodes.append(x.text)\n",
    "        if not node_dict.get(x.text):\n",
    "            node_dict[x.text] = {\"Positive Sentiment Score\": row[\"Positive Sentiment Score\"], \n",
    "                                 \"Neutral Sentiment Score\": row[\"Neutral Sentiment Score\"],\n",
    "                                 \"Negative Sentiment Score\": row[\"Negative Sentiment Score\"],\n",
    "                                 \"count\": 1}\n",
    "        else:\n",
    "            node_dict[x.text][\"Positive Sentiment Score\"] = node_dict[x.text][\"Positive Sentiment Score\"]+ row[\"Positive Sentiment Score\"]\n",
    "            node_dict[x.text][\"Neutral Sentiment Score\"] = node_dict[x.text][\"Neutral Sentiment Score\"]+ row[\"Neutral Sentiment Score\"]\n",
    "            node_dict[x.text][\"Negative Sentiment Score\"] = node_dict[x.text][\"Negative Sentiment Score\"]+  row[\"Negative Sentiment Score\"]\n",
    "            node_dict[x.text][\"count\"] = node_dict[x.text][\"count\"]+1\n",
    "        \n",
    "    \n",
    "    relevant_df.at[index,\"Entities\"] = nodes\n",
    "    relation = get_relation( row[\"headline_text\"])\n",
    "\n",
    "    relevant_df.at[index,\"Relations\"] = relation\n",
    "\n",
    "    total_nodes = total_nodes+ nodes\n",
    "\n",
    "    for i in range(len(nodes)):\n",
    "        for j in range(i+1,len(nodes)):\n",
    "            edge_info.append( ( nodes[i] , nodes[j]  ))\n",
    "\n",
    "    "
   ]
  },
  {
   "cell_type": "code",
   "execution_count": 38,
   "metadata": {},
   "outputs": [],
   "source": [
    "relevant_df.to_csv(\"check.csv\")"
   ]
  },
  {
   "cell_type": "code",
   "execution_count": 39,
   "metadata": {},
   "outputs": [
    {
     "name": "stdout",
     "output_type": "stream",
     "text": [
      "6205\n"
     ]
    }
   ],
   "source": [
    "print(len(set(total_nodes)))"
   ]
  },
  {
   "cell_type": "code",
   "execution_count": 40,
   "metadata": {},
   "outputs": [
    {
     "data": {
      "text/plain": [
       "12001"
      ]
     },
     "execution_count": 40,
     "metadata": {},
     "output_type": "execute_result"
    }
   ],
   "source": [
    "len(edge_info)"
   ]
  },
  {
   "cell_type": "code",
   "execution_count": 41,
   "metadata": {},
   "outputs": [
    {
     "data": {
      "text/plain": [
       "9226"
      ]
     },
     "execution_count": 41,
     "metadata": {},
     "output_type": "execute_result"
    }
   ],
   "source": [
    "len(node_dict)"
   ]
  },
  {
   "cell_type": "code",
   "execution_count": 42,
   "metadata": {},
   "outputs": [],
   "source": [
    "for n in total_nodes:\n",
    "  node_dict[n][\"Average Positive Sentiment Score\"] = node_dict[n][\"Positive Sentiment Score\"]/node_dict[n][\"count\"]\n",
    "  node_dict[n][\"Average Neutral Sentiment Score\"] = node_dict[n][\"Neutral Sentiment Score\"]/node_dict[n][\"count\"]\n",
    "  node_dict[n][\"Average Negative Sentiment Score\"] = node_dict[n][\"Negative Sentiment Score\"]/node_dict[n][\"count\"]"
   ]
  },
  {
   "cell_type": "code",
   "execution_count": 43,
   "metadata": {},
   "outputs": [],
   "source": [
    "graph_nodes = []\n",
    "edges =[]"
   ]
  },
  {
   "cell_type": "code",
   "execution_count": 44,
   "metadata": {},
   "outputs": [],
   "source": [
    "for n in set(total_nodes):\n",
    "  graph_nodes.append((n, node_dict[n]['Average Positive Sentiment Score'],node_dict[n]['Average Neutral Sentiment Score'],node_dict[n]['Average Negative Sentiment Score']))"
   ]
  },
  {
   "cell_type": "code",
   "execution_count": 45,
   "metadata": {},
   "outputs": [],
   "source": [
    "for e in edge_info:\n",
    "  n1 = (e[0],node_dict[e[0]]['Average Positive Sentiment Score'],node_dict[e[0]]['Average Neutral Sentiment Score'],node_dict[e[0]]['Average Negative Sentiment Score'])\n",
    "  n2 = (e[1],node_dict[e[1]]['Average Positive Sentiment Score'],node_dict[e[1]]['Average Neutral Sentiment Score'],node_dict[e[1]]['Average Negative Sentiment Score'])\n",
    "  edges.append((n1,n2))"
   ]
  },
  {
   "cell_type": "code",
   "execution_count": 46,
   "metadata": {},
   "outputs": [],
   "source": [
    "import networkx as nx\n",
    "G = nx.Graph()"
   ]
  },
  {
   "cell_type": "code",
   "execution_count": 47,
   "metadata": {},
   "outputs": [],
   "source": [
    "for n in graph_nodes:\n",
    "  G.add_node(n)"
   ]
  },
  {
   "cell_type": "code",
   "execution_count": 48,
   "metadata": {},
   "outputs": [],
   "source": [
    "G.add_edges_from(edges)"
   ]
  },
  {
   "cell_type": "code",
   "execution_count": 49,
   "metadata": {},
   "outputs": [],
   "source": [
    "import pickle\n",
    "\n",
    "# save graph object to file\n",
    "pickle.dump(G, open('ToIGraph.pickle', 'wb'))\n",
    "\n"
   ]
  },
  {
   "cell_type": "code",
   "execution_count": null,
   "metadata": {},
   "outputs": [],
   "source": [
    "import matplotlib.pyplot as plt\n",
    "\n"
   ]
  },
  {
   "cell_type": "code",
   "execution_count": null,
   "metadata": {},
   "outputs": [],
   "source": [
    "nx.draw(G)"
   ]
  },
  {
   "cell_type": "code",
   "execution_count": null,
   "metadata": {},
   "outputs": [],
   "source": [
    "for n in graph_nodes:\n",
    "  print(len(G.edges(n)))"
   ]
  },
  {
   "cell_type": "code",
   "execution_count": 50,
   "metadata": {},
   "outputs": [],
   "source": [
    "# load graph object from file\n",
    "graph = pickle.load(open('ToIGraph.pickle', 'rb'))"
   ]
  },
  {
   "cell_type": "code",
   "execution_count": null,
   "metadata": {},
   "outputs": [],
   "source": [
    "graph.edges"
   ]
  }
 ],
 "metadata": {
  "kernelspec": {
   "display_name": "venv",
   "language": "python",
   "name": "python3"
  },
  "language_info": {
   "codemirror_mode": {
    "name": "ipython",
    "version": 3
   },
   "file_extension": ".py",
   "mimetype": "text/x-python",
   "name": "python",
   "nbconvert_exporter": "python",
   "pygments_lexer": "ipython3",
   "version": "3.10.10"
  },
  "orig_nbformat": 4,
  "vscode": {
   "interpreter": {
    "hash": "a3e992e7c1e56a9c8d214f72901d6cbdb258ed72bc7efa31bb0cff8b9ed5a96d"
   }
  }
 },
 "nbformat": 4,
 "nbformat_minor": 2
}
